{
 "cells": [
  {
   "cell_type": "markdown",
   "id": "2c38eb6f",
   "metadata": {},
   "source": [
    "This code will compute the transmissivity of a planetary atmosphere, a measure of the greenhouse effect. <p>Inputs are the Solar Constant, Albedo, and Surface Temperature"
   ]
  },
  {
   "cell_type": "code",
   "execution_count": 7,
   "id": "7dc3c897",
   "metadata": {},
   "outputs": [],
   "source": [
    "S = 1360 # Solar Constant w/m**2\n",
    "alpha = 0.25 # albedo\n",
    "T = 288 # Surface temperature (K)\n",
    "sigma = 5.67e-8 # stefan bolzman"
   ]
  },
  {
   "cell_type": "markdown",
   "id": "e99c850d",
   "metadata": {},
   "source": [
    "This code block will compute the value of tau giving your inputs"
   ]
  },
  {
   "cell_type": "code",
   "execution_count": 10,
   "id": "afd0de39",
   "metadata": {},
   "outputs": [
    {
     "name": "stdout",
     "output_type": "stream",
     "text": [
      "Absorbed Flux =   255.0 W/m^2\n",
      "Surface  Flux =   390.0793946112 W/m^2\n",
      "Transmissivity factor =  0.30742614720351313\n"
     ]
    }
   ],
   "source": [
    "Rin = 0.25*(1-alpha)*S\n",
    "Rg = sigma*T**4\n",
    "tau = 2*Rin/Rg - 1\n",
    "\n",
    "print(\"Absorbed Flux =  \", Rin, \"W/m^2\")\n",
    "print(\"Surface  Flux =  \", Rg, \"W/m^2\")\n",
    "\n",
    "print(\"Transmissivity factor = \", tau)"
   ]
  },
  {
   "cell_type": "code",
   "execution_count": null,
   "id": "b89643a6",
   "metadata": {},
   "outputs": [],
   "source": []
  }
 ],
 "metadata": {
  "kernelspec": {
   "display_name": "Python 3 (ipykernel)",
   "language": "python",
   "name": "python3"
  },
  "language_info": {
   "codemirror_mode": {
    "name": "ipython",
    "version": 3
   },
   "file_extension": ".py",
   "mimetype": "text/x-python",
   "name": "python",
   "nbconvert_exporter": "python",
   "pygments_lexer": "ipython3",
   "version": "3.9.17"
  }
 },
 "nbformat": 4,
 "nbformat_minor": 5
}
