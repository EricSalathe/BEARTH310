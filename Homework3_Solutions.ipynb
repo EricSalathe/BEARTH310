{
 "cells": [
  {
   "cell_type": "markdown",
   "id": "7ff0cae0",
   "metadata": {},
   "source": [
    "<h1>Homework #3 Solutions</h1>"
   ]
  },
  {
   "cell_type": "markdown",
   "id": "52fadbed",
   "metadata": {},
   "source": [
    "<h2>Part 1</h2>\n",
    "For the following, assume you measured the temperature, dew point, and pressure at the surface with the following values (careful about when to use °C and K):\n",
    "\n",
    "T = 15°C \n",
    "Td = 10°C\n",
    "P = 1000 hPa"
   ]
  },
  {
   "cell_type": "code",
   "execution_count": 55,
   "id": "05e423de",
   "metadata": {},
   "outputs": [],
   "source": [
    "from numpy import exp, sin, pi\n",
    "\n",
    "e0 = 6.113\n",
    "T0 = 273.15\n",
    "Lv = 2.5e6\n",
    "Rv = 461\n",
    "epsilon = 0.622\n",
    "\n",
    "T = 15 # °C \n",
    "Td = 10 # °C\n",
    "p = 1000 # hPa"
   ]
  },
  {
   "cell_type": "markdown",
   "id": "7d0207d4",
   "metadata": {},
   "source": [
    "1) What is the saturation vapor pressure?"
   ]
  },
  {
   "cell_type": "code",
   "execution_count": 59,
   "id": "15c99d52",
   "metadata": {},
   "outputs": [
    {
     "name": "stdout",
     "output_type": "stream",
     "text": [
      "Saturation Vapor Pressure = 17.2\n"
     ]
    }
   ],
   "source": [
    "Tkel = T + T0\n",
    "esat = e0*exp(Lv/Rv*(1/T0 - 1/Tkel))\n",
    "print(\"Saturation Vapor Pressure = {:.3g}\".format(esat))"
   ]
  },
  {
   "cell_type": "markdown",
   "id": "3af53ce1",
   "metadata": {},
   "source": [
    "2) What is the ambient vapor pressure?"
   ]
  },
  {
   "cell_type": "code",
   "execution_count": 60,
   "id": "f52a2b7e",
   "metadata": {},
   "outputs": [
    {
     "name": "stdout",
     "output_type": "stream",
     "text": [
      "Ambient Vapor Pressure = 12.3\n"
     ]
    }
   ],
   "source": [
    "Tdkel = Td + T0\n",
    "e = e0*exp(Lv/Rv*(1/T0 - 1/Tdkel))\n",
    "print(\"Ambient Vapor Pressure = {:.3g}\".format(e))"
   ]
  },
  {
   "cell_type": "markdown",
   "id": "a874ecd3",
   "metadata": {},
   "source": [
    "3) What is the relative humidity based on e and es? What is RH using the simple formula"
   ]
  },
  {
   "cell_type": "code",
   "execution_count": 61,
   "id": "a1bdac4e",
   "metadata": {},
   "outputs": [
    {
     "name": "stdout",
     "output_type": "stream",
     "text": [
      "Relative humidity = 71.7\n",
      "Approx RH         = 75\n"
     ]
    }
   ],
   "source": [
    "RH = e/esat*100\n",
    "RHappr = 100 - (T - Td)*5\n",
    "print(\"Relative humidity = {:.3g}\".format(RH))\n",
    "print(\"Approx RH         = {:.3g}\".format(RHappr))"
   ]
  },
  {
   "cell_type": "markdown",
   "id": "bf8483a9",
   "metadata": {},
   "source": [
    "4) What are the ambient water vapor mixing ratio and specific humidity?"
   ]
  },
  {
   "cell_type": "code",
   "execution_count": 64,
   "id": "cb9e76a8",
   "metadata": {},
   "outputs": [
    {
     "name": "stdout",
     "output_type": "stream",
     "text": [
      "Mixing ratio = 0.00776 kg/kg = 0.776 g/kg\n",
      "Specif humid = 0.00767 kg/kg = 0.767 g/kg\n"
     ]
    }
   ],
   "source": [
    "w = epsilon*e/(p-e)\n",
    "q = epsilon*e/p\n",
    "print(\"Mixing ratio = {:.3g} kg/kg = {:.3g} g/kg\".format(w, w*100))\n",
    "print(\"Specif humid = {:.3g} kg/kg = {:.3g} g/kg\".format(q, q*100))"
   ]
  },
  {
   "cell_type": "markdown",
   "id": "1adc448a",
   "metadata": {},
   "source": [
    "<h2>Part 2 Radiation</h2>\n",
    "1) What is the radiative flux in W/m2 emitted by a person of normal body temperature (98.6°F or 37°C)?\n",
    "What is the peak wavelength emitted?\n",
    "About how much total energy is emitted per second by an average person in Watts (Joules per second) (hint: approximate the surface area of a person)?\n"
   ]
  },
  {
   "cell_type": "code",
   "execution_count": 74,
   "id": "035af287",
   "metadata": {},
   "outputs": [
    {
     "name": "stdout",
     "output_type": "stream",
     "text": [
      "Flux  =   525 W/m^2\n",
      "Power =  1049 W\n",
      "Peak wavelength =  9.34 microns\n"
     ]
    }
   ],
   "source": [
    "T = 37 + T0\n",
    "sigma = 5.67e-8\n",
    "A = 2 # area of human body in m^2\n",
    "\n",
    "F = sigma*T**4\n",
    "print(\"Flux  = {:5.0f} W/m^2\".format(F))\n",
    "\n",
    "P = F*A\n",
    "print(\"Power = {:5.0f} W\".format(P))\n",
    "print(\"Peak wavelength = {:5.2f} microns\".format(2897/T))\n"
   ]
  },
  {
   "cell_type": "markdown",
   "id": "fc63edb7",
   "metadata": {},
   "source": [
    "2) A cell phone emits about 3 Watts of energy as radio waves. This radiant energy is called the radiative flux from the source and it is the energy produced per second (Joules/s or Watts). This energy get's spread out over a sphere as it moves away from the source. The farther away, the larger the sphere so the more the energy is spread out. The irradiance (W/m2) is the amount of energy (Watts)  per square meter of surface area of this sphere (see picture). In class we used the symbol P for radiative flux and P/a for irradiance in Watts/m2.\n"
   ]
  },
  {
   "cell_type": "code",
   "execution_count": 69,
   "id": "c78b6323",
   "metadata": {},
   "outputs": [
    {
     "name": "stdout",
     "output_type": "stream",
     "text": [
      "head  95.5\n",
      "feet  0.424\n",
      "tower 3.18e-07\n"
     ]
    }
   ],
   "source": [
    "from numpy import pi\n",
    "\n",
    "P = 3 # W\n",
    "Rhead = 0.1 # m\n",
    "Rfeet = 1.5 # m\n",
    "Rtower = 1000 # m\n",
    "\n",
    "Ahead = pi*Rhead**2\n",
    "Afeet = pi*Rfeet**2\n",
    "Atower = pi*Rtower**2\n",
    "\n",
    "\n",
    "\n",
    "print(\"head  {:.3g}\".format(P/Ahead))\n",
    "print(\"feet  {:.3g}\".format(P/Afeet))\n",
    "print(\"tower {:.3g}\".format(P/P/Atower))\n"
   ]
  },
  {
   "cell_type": "markdown",
   "id": "8895eb3c",
   "metadata": {},
   "source": [
    "3) In the picture below, a solar panel is tilted up so it is perpendicular to the sun's rays, which are at a 45° angle to the ground. Assume the incoming solar radiation is 240 W/m2  and the solar panel is 1 m wide (as shown in figure) by 10 m long (into the figure).\n",
    "\n",
    "a) How many Watts of energy does the panel collect? (Hint: what is the area of the panel?)\n",
    "\n"
   ]
  },
  {
   "cell_type": "code",
   "execution_count": 75,
   "id": "55d10387",
   "metadata": {},
   "outputs": [
    {
     "name": "stdout",
     "output_type": "stream",
     "text": [
      "Power =  2400 Watts\n"
     ]
    }
   ],
   "source": [
    "F = 240 # W/m^2\n",
    "\n",
    "A = 1 * 10 # m^2\n",
    "\n",
    "P = F*A\n",
    "\n",
    "print(\"Power = {:5.0f} Watts\".format(P))"
   ]
  },
  {
   "cell_type": "markdown",
   "id": "769f8c7e",
   "metadata": {},
   "source": [
    "b) How many Watts would the panel collect if if were laying flat on the ground?\n",
    "\n",
    "Note that $\\theta$ is defined so that $\\theta=0$ implies sun's rays are horizontal and $\\theta=90\\deg$ is vertical rays."
   ]
  },
  {
   "cell_type": "code",
   "execution_count": 76,
   "id": "e4400ad4",
   "metadata": {},
   "outputs": [
    {
     "name": "stdout",
     "output_type": "stream",
     "text": [
      "Power =  1697 Watts\n"
     ]
    }
   ],
   "source": [
    "theta = 45\n",
    "Aflat = sin(theta * pi/180)*A\n",
    "\n",
    "P = F*Aflat\n",
    "\n",
    "print(\"Power = {:5.0f} Watts\".format(P))"
   ]
  },
  {
   "cell_type": "code",
   "execution_count": null,
   "id": "5ac621cc",
   "metadata": {},
   "outputs": [],
   "source": []
  }
 ],
 "metadata": {
  "kernelspec": {
   "display_name": "Python 3 (ipykernel)",
   "language": "python",
   "name": "python3"
  },
  "language_info": {
   "codemirror_mode": {
    "name": "ipython",
    "version": 3
   },
   "file_extension": ".py",
   "mimetype": "text/x-python",
   "name": "python",
   "nbconvert_exporter": "python",
   "pygments_lexer": "ipython3",
   "version": "3.9.17"
  }
 },
 "nbformat": 4,
 "nbformat_minor": 5
}
