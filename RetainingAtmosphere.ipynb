{
 "cells": [
  {
   "cell_type": "markdown",
   "id": "71b3dcad-43b6-4375-a897-013062ac7c74",
   "metadata": {},
   "source": [
    "## Retaining an Atmosphere\n",
    "Compute the molecular speed and escape velocity for key molecules on a planet. Compare these to decide if the molecule is retained."
   ]
  },
  {
   "cell_type": "markdown",
   "id": "0318cb8f",
   "metadata": {},
   "source": [
    "This is a list of the gases we will consider with their molecular masses"
   ]
  },
  {
   "cell_type": "code",
   "execution_count": 6,
   "id": "e6261c42",
   "metadata": {},
   "outputs": [],
   "source": [
    "from numpy import array, sqrt\n",
    "\n",
    "gas = ['H','H2','He','N2','O2','CO2']\n",
    "M = array([1,2,4,28,32,44])"
   ]
  },
  {
   "cell_type": "markdown",
   "id": "cd44567e-8c09-4340-8a0f-27c1e16a70f3",
   "metadata": {},
   "source": [
    "<b>Step 1:</b> Fill in the appropriate values for your planet. The given values are for Earth. "
   ]
  },
  {
   "cell_type": "code",
   "execution_count": 7,
   "id": "1f96006a-439e-4bd4-8c4d-8a3ebcbac7b5",
   "metadata": {},
   "outputs": [],
   "source": [
    "T = 15 # Temperature of planet in deg C\n",
    "g = 9.8 # Surface gravitational acceleration in m/s\n",
    "R = 6.371 * 10**6 # Radius in m"
   ]
  },
  {
   "cell_type": "markdown",
   "id": "99a7f6b8-a340-42eb-9d20-5e0ca9ad903d",
   "metadata": {},
   "source": [
    "<b>Step 2:</b>  Hit the >> button above to compute Escape Velocity and Molecular Velocities"
   ]
  },
  {
   "cell_type": "code",
   "execution_count": 8,
   "id": "3cac7fcf-47d1-4522-9443-bfa955bfdb58",
   "metadata": {},
   "outputs": [
    {
     "name": "stdout",
     "output_type": "stream",
     "text": [
      "Escape Velocity =  11175.0  m/s\n",
      "Molecular Velocity:\n",
      "H:  2681.0  m/s\n",
      "H2:  1896.0  m/s\n",
      "He:  1340.0  m/s\n",
      "N2:  507.0  m/s\n",
      "O2:  474.0  m/s\n",
      "CO2:  404.0  m/s\n"
     ]
    }
   ],
   "source": [
    "T = T + 273.15 # K\n",
    "\n",
    "vm = sqrt(3*8314*T/M)\n",
    "ve=sqrt(2*g*R)\n",
    "\n",
    "print('Escape Velocity = ',ve.round(0),' m/s')\n",
    "print('Molecular Velocity:')\n",
    "for i in range(len(M)):\n",
    "    print(gas[i]+': ',vm[i].round(0),' m/s')\n"
   ]
  },
  {
   "cell_type": "markdown",
   "id": "19b995cb-ecce-4042-990e-92995b63d9eb",
   "metadata": {},
   "source": [
    "Molecules with a velocity less than 1/10 the escape velocity will be retained by the atmosphere."
   ]
  },
  {
   "cell_type": "code",
   "execution_count": null,
   "id": "07d5002d-6770-4130-a773-c4648449561d",
   "metadata": {},
   "outputs": [],
   "source": []
  }
 ],
 "metadata": {
  "kernelspec": {
   "display_name": "Python 3 (ipykernel)",
   "language": "python",
   "name": "python3"
  },
  "language_info": {
   "codemirror_mode": {
    "name": "ipython",
    "version": 3
   },
   "file_extension": ".py",
   "mimetype": "text/x-python",
   "name": "python",
   "nbconvert_exporter": "python",
   "pygments_lexer": "ipython3",
   "version": "3.9.17"
  }
 },
 "nbformat": 4,
 "nbformat_minor": 5
}
